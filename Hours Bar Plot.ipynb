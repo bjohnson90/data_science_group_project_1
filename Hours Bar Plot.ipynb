{
 "cells": [
  {
   "cell_type": "code",
   "execution_count": 2,
   "metadata": {},
   "outputs": [],
   "source": [
    "import csv\n",
    "import os\n",
    "import pandas as pd\n",
    "import matplotlib.pyplot as plt\n",
    "import numpy as np"
   ]
  },
  {
   "cell_type": "code",
   "execution_count": 3,
   "metadata": {},
   "outputs": [
    {
     "name": "stdout",
     "output_type": "stream",
     "text": [
      "data\\reduced_texas_df.csv\n",
      "data\\jared_reduced_texas_df.csv\n"
     ]
    }
   ],
   "source": [
    "csv_path = os.path.join(\"data\", \"reduced_texas_df.csv\")\n",
    "csv2_path = os.path.join(\"data\", \"jared_reduced_texas_df.csv\")\n",
    "print(csv_path)\n",
    "print(csv2_path)\n"
   ]
  },
  {
   "cell_type": "code",
   "execution_count": 4,
   "metadata": {},
   "outputs": [
    {
     "data": {
      "text/html": [
       "<div>\n",
       "<style scoped>\n",
       "    .dataframe tbody tr th:only-of-type {\n",
       "        vertical-align: middle;\n",
       "    }\n",
       "\n",
       "    .dataframe tbody tr th {\n",
       "        vertical-align: top;\n",
       "    }\n",
       "\n",
       "    .dataframe thead th {\n",
       "        text-align: right;\n",
       "    }\n",
       "</style>\n",
       "<table border=\"1\" class=\"dataframe\">\n",
       "  <thead>\n",
       "    <tr style=\"text-align: right;\">\n",
       "      <th></th>\n",
       "      <th>ID</th>\n",
       "      <th>TMC</th>\n",
       "      <th>Severity</th>\n",
       "      <th>Start_Time</th>\n",
       "      <th>End_Time</th>\n",
       "      <th>Weather_Condition</th>\n",
       "      <th>Sunrise_Sunset</th>\n",
       "      <th>Civil_Twilight</th>\n",
       "      <th>Nautical_Twilight</th>\n",
       "      <th>Astronomical_Twilight</th>\n",
       "    </tr>\n",
       "  </thead>\n",
       "  <tbody>\n",
       "    <tr>\n",
       "      <th>0</th>\n",
       "      <td>261002</td>\n",
       "      <td>201.0</td>\n",
       "      <td>2</td>\n",
       "      <td>16:03</td>\n",
       "      <td>11/30/2016 17:20</td>\n",
       "      <td>Clear</td>\n",
       "      <td>Day</td>\n",
       "      <td>Day</td>\n",
       "      <td>Day</td>\n",
       "      <td>Day</td>\n",
       "    </tr>\n",
       "    <tr>\n",
       "      <th>1</th>\n",
       "      <td>261003</td>\n",
       "      <td>201.0</td>\n",
       "      <td>2</td>\n",
       "      <td>16:32</td>\n",
       "      <td>11/30/2016 17:47</td>\n",
       "      <td>Clear</td>\n",
       "      <td>Day</td>\n",
       "      <td>Day</td>\n",
       "      <td>Day</td>\n",
       "      <td>Day</td>\n",
       "    </tr>\n",
       "    <tr>\n",
       "      <th>2</th>\n",
       "      <td>261004</td>\n",
       "      <td>201.0</td>\n",
       "      <td>2</td>\n",
       "      <td>16:31</td>\n",
       "      <td>11/30/2016 17:46</td>\n",
       "      <td>Clear</td>\n",
       "      <td>Day</td>\n",
       "      <td>Day</td>\n",
       "      <td>Day</td>\n",
       "      <td>Day</td>\n",
       "    </tr>\n",
       "    <tr>\n",
       "      <th>3</th>\n",
       "      <td>261005</td>\n",
       "      <td>201.0</td>\n",
       "      <td>2</td>\n",
       "      <td>16:06</td>\n",
       "      <td>11/30/2016 17:27</td>\n",
       "      <td>NaN</td>\n",
       "      <td>Day</td>\n",
       "      <td>Day</td>\n",
       "      <td>Day</td>\n",
       "      <td>Day</td>\n",
       "    </tr>\n",
       "    <tr>\n",
       "      <th>4</th>\n",
       "      <td>261006</td>\n",
       "      <td>201.0</td>\n",
       "      <td>3</td>\n",
       "      <td>16:35</td>\n",
       "      <td>11/30/2016 17:49</td>\n",
       "      <td>NaN</td>\n",
       "      <td>Day</td>\n",
       "      <td>Day</td>\n",
       "      <td>Day</td>\n",
       "      <td>Day</td>\n",
       "    </tr>\n",
       "  </tbody>\n",
       "</table>\n",
       "</div>"
      ],
      "text/plain": [
       "       ID    TMC  Severity Start_Time          End_Time Weather_Condition  \\\n",
       "0  261002  201.0         2      16:03  11/30/2016 17:20             Clear   \n",
       "1  261003  201.0         2      16:32  11/30/2016 17:47             Clear   \n",
       "2  261004  201.0         2      16:31  11/30/2016 17:46             Clear   \n",
       "3  261005  201.0         2      16:06  11/30/2016 17:27               NaN   \n",
       "4  261006  201.0         3      16:35  11/30/2016 17:49               NaN   \n",
       "\n",
       "  Sunrise_Sunset Civil_Twilight Nautical_Twilight Astronomical_Twilight  \n",
       "0            Day            Day               Day                   Day  \n",
       "1            Day            Day               Day                   Day  \n",
       "2            Day            Day               Day                   Day  \n",
       "3            Day            Day               Day                   Day  \n",
       "4            Day            Day               Day                   Day  "
      ]
     },
     "execution_count": 4,
     "metadata": {},
     "output_type": "execute_result"
    }
   ],
   "source": [
    "texas_df = pd.read_csv(csv_path, encoding=\"utf-8\")\n",
    "texas_df.head(5)\n",
    "texas2_df = pd.read_csv(csv2_path, encoding=\"utf-8\")\n",
    "\n",
    "texas2_df.head()\n"
   ]
  },
  {
   "cell_type": "code",
   "execution_count": 5,
   "metadata": {},
   "outputs": [],
   "source": [
    "texas_df['Start_Time'] = pd.to_datetime(texas_df['Start_Time'], errors='coerce')"
   ]
  },
  {
   "cell_type": "code",
   "execution_count": 6,
   "metadata": {},
   "outputs": [
    {
     "data": {
      "text/plain": [
       "0     16.0\n",
       "1     16.0\n",
       "2     16.0\n",
       "3     16.0\n",
       "4     16.0\n",
       "5     16.0\n",
       "6     16.0\n",
       "7     16.0\n",
       "8     15.0\n",
       "9     16.0\n",
       "10    16.0\n",
       "11    16.0\n",
       "12    15.0\n",
       "13    16.0\n",
       "14    16.0\n",
       "15    16.0\n",
       "16    16.0\n",
       "17    17.0\n",
       "18    16.0\n",
       "19    17.0\n",
       "Name: Start_Time, dtype: float64"
      ]
     },
     "execution_count": 6,
     "metadata": {},
     "output_type": "execute_result"
    }
   ],
   "source": [
    "hour_texas_df = texas_df['Start_Time'].dt.hour\n",
    "\n",
    "\n",
    "hour_texas_df.head(20)"
   ]
  },
  {
   "cell_type": "code",
   "execution_count": 7,
   "metadata": {},
   "outputs": [],
   "source": [
    "bins = [0, 4, 8, 12, 16, 20, 24]\n",
    "\n",
    "hour_groups = [\"Midnight to 4am\", \"4am to 8am\", \"8am to Noon\", \"Noon to 4pm\",\"4pm to 8pm\", \"8pm to Midnight\"]\n"
   ]
  },
  {
   "cell_type": "code",
   "execution_count": 8,
   "metadata": {},
   "outputs": [
    {
     "data": {
      "text/plain": [
       "0     Noon to 4pm\n",
       "1     Noon to 4pm\n",
       "2     Noon to 4pm\n",
       "3     Noon to 4pm\n",
       "4     Noon to 4pm\n",
       "5     Noon to 4pm\n",
       "6     Noon to 4pm\n",
       "7     Noon to 4pm\n",
       "8     Noon to 4pm\n",
       "9     Noon to 4pm\n",
       "10    Noon to 4pm\n",
       "11    Noon to 4pm\n",
       "12    Noon to 4pm\n",
       "13    Noon to 4pm\n",
       "14    Noon to 4pm\n",
       "15    Noon to 4pm\n",
       "16    Noon to 4pm\n",
       "17     4pm to 8pm\n",
       "18    Noon to 4pm\n",
       "19     4pm to 8pm\n",
       "Name: Start_Time, dtype: category\n",
       "Categories (6, object): ['Midnight to 4am' < '4am to 8am' < '8am to Noon' < 'Noon to 4pm' < '4pm to 8pm' < '8pm to Midnight']"
      ]
     },
     "execution_count": 8,
     "metadata": {},
     "output_type": "execute_result"
    }
   ],
   "source": [
    "pd.cut(hour_texas_df, bins, labels=hour_groups).head(20)"
   ]
  },
  {
   "cell_type": "code",
   "execution_count": 9,
   "metadata": {},
   "outputs": [
    {
     "data": {
      "text/html": [
       "<div>\n",
       "<style scoped>\n",
       "    .dataframe tbody tr th:only-of-type {\n",
       "        vertical-align: middle;\n",
       "    }\n",
       "\n",
       "    .dataframe tbody tr th {\n",
       "        vertical-align: top;\n",
       "    }\n",
       "\n",
       "    .dataframe thead th {\n",
       "        text-align: right;\n",
       "    }\n",
       "</style>\n",
       "<table border=\"1\" class=\"dataframe\">\n",
       "  <thead>\n",
       "    <tr style=\"text-align: right;\">\n",
       "      <th></th>\n",
       "      <th>ID</th>\n",
       "      <th>TMC</th>\n",
       "      <th>Severity</th>\n",
       "      <th>Start_Time</th>\n",
       "      <th>End_Time</th>\n",
       "      <th>Start_Lat</th>\n",
       "      <th>Start_Lng</th>\n",
       "      <th>Description</th>\n",
       "      <th>City</th>\n",
       "      <th>State</th>\n",
       "      <th>...</th>\n",
       "      <th>Temperature(F)</th>\n",
       "      <th>Visibility(mi)</th>\n",
       "      <th>Wind_Speed(mph)</th>\n",
       "      <th>Precipitation(in)</th>\n",
       "      <th>Weather_Condition</th>\n",
       "      <th>Sunrise_Sunset</th>\n",
       "      <th>Civil_Twilight</th>\n",
       "      <th>Nautical_Twilight</th>\n",
       "      <th>Astronomical_Twilight</th>\n",
       "      <th>Hour Group</th>\n",
       "    </tr>\n",
       "  </thead>\n",
       "  <tbody>\n",
       "    <tr>\n",
       "      <th>0</th>\n",
       "      <td>261002</td>\n",
       "      <td>201.0</td>\n",
       "      <td>2</td>\n",
       "      <td>2016-11-30 16:03:00</td>\n",
       "      <td>11/30/2016 17:20</td>\n",
       "      <td>30.336502</td>\n",
       "      <td>-97.755646</td>\n",
       "      <td>Accident on RM-2222 Northland Dr at Mo Pac Exp...</td>\n",
       "      <td>Austin</td>\n",
       "      <td>TX</td>\n",
       "      <td>...</td>\n",
       "      <td>66.0</td>\n",
       "      <td>10.0</td>\n",
       "      <td>5.8</td>\n",
       "      <td>NaN</td>\n",
       "      <td>Clear</td>\n",
       "      <td>Day</td>\n",
       "      <td>Day</td>\n",
       "      <td>Day</td>\n",
       "      <td>Day</td>\n",
       "      <td>Noon to 4pm</td>\n",
       "    </tr>\n",
       "    <tr>\n",
       "      <th>1</th>\n",
       "      <td>261003</td>\n",
       "      <td>201.0</td>\n",
       "      <td>2</td>\n",
       "      <td>2016-11-30 16:32:00</td>\n",
       "      <td>11/30/2016 17:47</td>\n",
       "      <td>30.328165</td>\n",
       "      <td>-97.694305</td>\n",
       "      <td>Accident on Grand Canyon Dr between Westheimer...</td>\n",
       "      <td>Austin</td>\n",
       "      <td>TX</td>\n",
       "      <td>...</td>\n",
       "      <td>62.1</td>\n",
       "      <td>10.0</td>\n",
       "      <td>4.6</td>\n",
       "      <td>NaN</td>\n",
       "      <td>Clear</td>\n",
       "      <td>Day</td>\n",
       "      <td>Day</td>\n",
       "      <td>Day</td>\n",
       "      <td>Day</td>\n",
       "      <td>Noon to 4pm</td>\n",
       "    </tr>\n",
       "    <tr>\n",
       "      <th>2</th>\n",
       "      <td>261004</td>\n",
       "      <td>201.0</td>\n",
       "      <td>2</td>\n",
       "      <td>2016-11-30 16:31:00</td>\n",
       "      <td>11/30/2016 17:46</td>\n",
       "      <td>30.326077</td>\n",
       "      <td>-97.692307</td>\n",
       "      <td>Accident on Saint Johns Ave at Cameron Rd.</td>\n",
       "      <td>Austin</td>\n",
       "      <td>TX</td>\n",
       "      <td>...</td>\n",
       "      <td>62.1</td>\n",
       "      <td>10.0</td>\n",
       "      <td>4.6</td>\n",
       "      <td>NaN</td>\n",
       "      <td>Clear</td>\n",
       "      <td>Day</td>\n",
       "      <td>Day</td>\n",
       "      <td>Day</td>\n",
       "      <td>Day</td>\n",
       "      <td>Noon to 4pm</td>\n",
       "    </tr>\n",
       "    <tr>\n",
       "      <th>3</th>\n",
       "      <td>261005</td>\n",
       "      <td>201.0</td>\n",
       "      <td>2</td>\n",
       "      <td>2016-11-30 16:06:00</td>\n",
       "      <td>11/30/2016 17:27</td>\n",
       "      <td>32.856014</td>\n",
       "      <td>-97.513084</td>\n",
       "      <td>#2 lane blocked and right hand shoulder blocke...</td>\n",
       "      <td>Fort Worth</td>\n",
       "      <td>TX</td>\n",
       "      <td>...</td>\n",
       "      <td>NaN</td>\n",
       "      <td>NaN</td>\n",
       "      <td>NaN</td>\n",
       "      <td>NaN</td>\n",
       "      <td>NaN</td>\n",
       "      <td>Day</td>\n",
       "      <td>Day</td>\n",
       "      <td>Day</td>\n",
       "      <td>Day</td>\n",
       "      <td>Noon to 4pm</td>\n",
       "    </tr>\n",
       "    <tr>\n",
       "      <th>4</th>\n",
       "      <td>261006</td>\n",
       "      <td>201.0</td>\n",
       "      <td>3</td>\n",
       "      <td>2016-11-30 16:35:00</td>\n",
       "      <td>11/30/2016 17:49</td>\n",
       "      <td>32.797668</td>\n",
       "      <td>-97.212090</td>\n",
       "      <td>#2 lane blocked and right hand shoulder blocke...</td>\n",
       "      <td>Fort Worth</td>\n",
       "      <td>TX</td>\n",
       "      <td>...</td>\n",
       "      <td>NaN</td>\n",
       "      <td>NaN</td>\n",
       "      <td>NaN</td>\n",
       "      <td>NaN</td>\n",
       "      <td>NaN</td>\n",
       "      <td>Day</td>\n",
       "      <td>Day</td>\n",
       "      <td>Day</td>\n",
       "      <td>Day</td>\n",
       "      <td>Noon to 4pm</td>\n",
       "    </tr>\n",
       "  </tbody>\n",
       "</table>\n",
       "<p>5 rows × 22 columns</p>\n",
       "</div>"
      ],
      "text/plain": [
       "       ID    TMC  Severity          Start_Time          End_Time  Start_Lat  \\\n",
       "0  261002  201.0         2 2016-11-30 16:03:00  11/30/2016 17:20  30.336502   \n",
       "1  261003  201.0         2 2016-11-30 16:32:00  11/30/2016 17:47  30.328165   \n",
       "2  261004  201.0         2 2016-11-30 16:31:00  11/30/2016 17:46  30.326077   \n",
       "3  261005  201.0         2 2016-11-30 16:06:00  11/30/2016 17:27  32.856014   \n",
       "4  261006  201.0         3 2016-11-30 16:35:00  11/30/2016 17:49  32.797668   \n",
       "\n",
       "   Start_Lng                                        Description        City  \\\n",
       "0 -97.755646  Accident on RM-2222 Northland Dr at Mo Pac Exp...      Austin   \n",
       "1 -97.694305  Accident on Grand Canyon Dr between Westheimer...      Austin   \n",
       "2 -97.692307         Accident on Saint Johns Ave at Cameron Rd.      Austin   \n",
       "3 -97.513084  #2 lane blocked and right hand shoulder blocke...  Fort Worth   \n",
       "4 -97.212090  #2 lane blocked and right hand shoulder blocke...  Fort Worth   \n",
       "\n",
       "  State  ... Temperature(F) Visibility(mi)  Wind_Speed(mph)  \\\n",
       "0    TX  ...           66.0           10.0              5.8   \n",
       "1    TX  ...           62.1           10.0              4.6   \n",
       "2    TX  ...           62.1           10.0              4.6   \n",
       "3    TX  ...            NaN            NaN              NaN   \n",
       "4    TX  ...            NaN            NaN              NaN   \n",
       "\n",
       "   Precipitation(in)  Weather_Condition  Sunrise_Sunset Civil_Twilight  \\\n",
       "0                NaN              Clear             Day            Day   \n",
       "1                NaN              Clear             Day            Day   \n",
       "2                NaN              Clear             Day            Day   \n",
       "3                NaN                NaN             Day            Day   \n",
       "4                NaN                NaN             Day            Day   \n",
       "\n",
       "  Nautical_Twilight Astronomical_Twilight   Hour Group  \n",
       "0               Day                   Day  Noon to 4pm  \n",
       "1               Day                   Day  Noon to 4pm  \n",
       "2               Day                   Day  Noon to 4pm  \n",
       "3               Day                   Day  Noon to 4pm  \n",
       "4               Day                   Day  Noon to 4pm  \n",
       "\n",
       "[5 rows x 22 columns]"
      ]
     },
     "execution_count": 9,
     "metadata": {},
     "output_type": "execute_result"
    }
   ],
   "source": [
    "texas_df[\"Hour Group\"] = pd.cut(hour_texas_df, bins, labels=hour_groups)\n",
    "texas_df.head()"
   ]
  },
  {
   "cell_type": "code",
   "execution_count": 10,
   "metadata": {},
   "outputs": [
    {
     "data": {
      "text/plain": [
       "4am to 8am         98683\n",
       "8am to Noon        88538\n",
       "Noon to 4pm        79150\n",
       "4pm to 8pm         74193\n",
       "8pm to Midnight    19139\n",
       "Midnight to 4am    13309\n",
       "Name: Hour Group, dtype: int64"
      ]
     },
     "execution_count": 10,
     "metadata": {},
     "output_type": "execute_result"
    }
   ],
   "source": [
    "texas_df[\"Hour Group\"].value_counts()"
   ]
  },
  {
   "cell_type": "code",
   "execution_count": 11,
   "metadata": {},
   "outputs": [
    {
     "data": {
      "text/plain": [
       "{'4am to 8am': 98683,\n",
       " '8am to Noon': 88538,\n",
       " 'Noon to 4pm': 79150,\n",
       " '4pm to 8pm': 74193,\n",
       " '8pm to Midnight': 19139,\n",
       " 'Midnight to 4am': 13309}"
      ]
     },
     "execution_count": 11,
     "metadata": {},
     "output_type": "execute_result"
    }
   ],
   "source": [
    "texas_df[\"Hour Group\"].value_counts().to_dict()"
   ]
  },
  {
   "cell_type": "code",
   "execution_count": 13,
   "metadata": {},
   "outputs": [
    {
     "data": {
      "image/png": "[encoded data removed]",
      "text/plain": [
       "<Figure size 720x720 with 1 Axes>"
      ]
     },
     "metadata": {
      "needs_background": "light"
     },
     "output_type": "display_data"
    }
   ],
   "source": [
    "hour_groups = [\"Midnight to 4am\", \"4am to 8am\", \"8am to Noon\", \"Noon to 4pm\",\"4pm to 8pm\", \"8pm to Midnight\"]\n",
    "\n",
    "hour_nums = [98683, 88538, 79150, 74193, 19139, 13309]\n",
    "plt.figure(figsize=(10,10))\n",
    "plt.bar(hour_groups, hour_nums, color=\"r\", align=\"center\")\n",
    "plt.title(\"Amount of Crashes at Different times\")\n",
    "plt.xlabel(\"Different Time Brackets\")\n",
    "plt.ylabel(\"Amount of Crashes Reported\")\n",
    "\n",
    "plt.savefig(\"data/fig1.png\")"
   ]
  },
  {
   "cell_type": "code",
   "execution_count": null,
   "metadata": {},
   "outputs": [],
   "source": []
  }
 ],
 "metadata": {
  "kernelspec": {
   "display_name": "Python 3",
   "language": "python",
   "name": "python3"
  },
  "language_info": {
   "codemirror_mode": {
    "name": "ipython",
    "version": 3
   },
   "file_extension": ".py",
   "mimetype": "text/x-python",
   "name": "python",
   "nbconvert_exporter": "python",
   "pygments_lexer": "ipython3",
   "version": "3.8.5"
  }
 },
 "nbformat": 4,
 "nbformat_minor": 4
}
