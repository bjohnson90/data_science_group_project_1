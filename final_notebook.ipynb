{
 "cells": [
  {
   "cell_type": "code",
   "execution_count": 1,
   "metadata": {},
   "outputs": [
    {
     "data": {
      "text/html": [
       "<div>\n",
       "<style scoped>\n",
       "    .dataframe tbody tr th:only-of-type {\n",
       "        vertical-align: middle;\n",
       "    }\n",
       "\n",
       "    .dataframe tbody tr th {\n",
       "        vertical-align: top;\n",
       "    }\n",
       "\n",
       "    .dataframe thead th {\n",
       "        text-align: right;\n",
       "    }\n",
       "</style>\n",
       "<table border=\"1\" class=\"dataframe\">\n",
       "  <thead>\n",
       "    <tr style=\"text-align: right;\">\n",
       "      <th></th>\n",
       "      <th>ID</th>\n",
       "      <th>TMC</th>\n",
       "      <th>Severity</th>\n",
       "      <th>Start_Time</th>\n",
       "      <th>End_Time</th>\n",
       "      <th>Start_Lat</th>\n",
       "      <th>Start_Lng</th>\n",
       "      <th>Description</th>\n",
       "      <th>City</th>\n",
       "      <th>State</th>\n",
       "      <th>...</th>\n",
       "      <th>Weather_Timestamp</th>\n",
       "      <th>Temperature(F)</th>\n",
       "      <th>Visibility(mi)</th>\n",
       "      <th>Wind_Speed(mph)</th>\n",
       "      <th>Precipitation(in)</th>\n",
       "      <th>Weather_Condition</th>\n",
       "      <th>Sunrise_Sunset</th>\n",
       "      <th>Civil_Twilight</th>\n",
       "      <th>Nautical_Twilight</th>\n",
       "      <th>Astronomical_Twilight</th>\n",
       "    </tr>\n",
       "  </thead>\n",
       "  <tbody>\n",
       "    <tr>\n",
       "      <th>0</th>\n",
       "      <td>261002</td>\n",
       "      <td>201.0</td>\n",
       "      <td>2</td>\n",
       "      <td>11/30/2016 16:03</td>\n",
       "      <td>11/30/2016 17:20</td>\n",
       "      <td>30.336502</td>\n",
       "      <td>-97.755646</td>\n",
       "      <td>Accident on RM-2222 Northland Dr at Mo Pac Exp...</td>\n",
       "      <td>Austin</td>\n",
       "      <td>TX</td>\n",
       "      <td>...</td>\n",
       "      <td>11/30/2016 15:51</td>\n",
       "      <td>66.0</td>\n",
       "      <td>10.0</td>\n",
       "      <td>5.8</td>\n",
       "      <td>NaN</td>\n",
       "      <td>Clear</td>\n",
       "      <td>Day</td>\n",
       "      <td>Day</td>\n",
       "      <td>Day</td>\n",
       "      <td>Day</td>\n",
       "    </tr>\n",
       "    <tr>\n",
       "      <th>1</th>\n",
       "      <td>261003</td>\n",
       "      <td>201.0</td>\n",
       "      <td>2</td>\n",
       "      <td>11/30/2016 16:32</td>\n",
       "      <td>11/30/2016 17:47</td>\n",
       "      <td>30.328165</td>\n",
       "      <td>-97.694305</td>\n",
       "      <td>Accident on Grand Canyon Dr between Westheimer...</td>\n",
       "      <td>Austin</td>\n",
       "      <td>TX</td>\n",
       "      <td>...</td>\n",
       "      <td>11/30/2016 16:51</td>\n",
       "      <td>62.1</td>\n",
       "      <td>10.0</td>\n",
       "      <td>4.6</td>\n",
       "      <td>NaN</td>\n",
       "      <td>Clear</td>\n",
       "      <td>Day</td>\n",
       "      <td>Day</td>\n",
       "      <td>Day</td>\n",
       "      <td>Day</td>\n",
       "    </tr>\n",
       "    <tr>\n",
       "      <th>2</th>\n",
       "      <td>261004</td>\n",
       "      <td>201.0</td>\n",
       "      <td>2</td>\n",
       "      <td>11/30/2016 16:31</td>\n",
       "      <td>11/30/2016 17:46</td>\n",
       "      <td>30.326077</td>\n",
       "      <td>-97.692307</td>\n",
       "      <td>Accident on Saint Johns Ave at Cameron Rd.</td>\n",
       "      <td>Austin</td>\n",
       "      <td>TX</td>\n",
       "      <td>...</td>\n",
       "      <td>11/30/2016 16:51</td>\n",
       "      <td>62.1</td>\n",
       "      <td>10.0</td>\n",
       "      <td>4.6</td>\n",
       "      <td>NaN</td>\n",
       "      <td>Clear</td>\n",
       "      <td>Day</td>\n",
       "      <td>Day</td>\n",
       "      <td>Day</td>\n",
       "      <td>Day</td>\n",
       "    </tr>\n",
       "    <tr>\n",
       "      <th>3</th>\n",
       "      <td>261005</td>\n",
       "      <td>201.0</td>\n",
       "      <td>2</td>\n",
       "      <td>11/30/2016 16:06</td>\n",
       "      <td>11/30/2016 17:27</td>\n",
       "      <td>32.856014</td>\n",
       "      <td>-97.513084</td>\n",
       "      <td>#2 lane blocked and right hand shoulder blocke...</td>\n",
       "      <td>Fort Worth</td>\n",
       "      <td>TX</td>\n",
       "      <td>...</td>\n",
       "      <td>11/30/2016 16:00</td>\n",
       "      <td>NaN</td>\n",
       "      <td>NaN</td>\n",
       "      <td>NaN</td>\n",
       "      <td>NaN</td>\n",
       "      <td>NaN</td>\n",
       "      <td>Day</td>\n",
       "      <td>Day</td>\n",
       "      <td>Day</td>\n",
       "      <td>Day</td>\n",
       "    </tr>\n",
       "    <tr>\n",
       "      <th>4</th>\n",
       "      <td>261006</td>\n",
       "      <td>201.0</td>\n",
       "      <td>3</td>\n",
       "      <td>11/30/2016 16:35</td>\n",
       "      <td>11/30/2016 17:49</td>\n",
       "      <td>32.797668</td>\n",
       "      <td>-97.212090</td>\n",
       "      <td>#2 lane blocked and right hand shoulder blocke...</td>\n",
       "      <td>Fort Worth</td>\n",
       "      <td>TX</td>\n",
       "      <td>...</td>\n",
       "      <td>NaN</td>\n",
       "      <td>NaN</td>\n",
       "      <td>NaN</td>\n",
       "      <td>NaN</td>\n",
       "      <td>NaN</td>\n",
       "      <td>NaN</td>\n",
       "      <td>Day</td>\n",
       "      <td>Day</td>\n",
       "      <td>Day</td>\n",
       "      <td>Day</td>\n",
       "    </tr>\n",
       "  </tbody>\n",
       "</table>\n",
       "<p>5 rows × 21 columns</p>\n",
       "</div>"
      ],
      "text/plain": [
       "       ID    TMC  Severity        Start_Time          End_Time  Start_Lat  \\\n",
       "0  261002  201.0         2  11/30/2016 16:03  11/30/2016 17:20  30.336502   \n",
       "1  261003  201.0         2  11/30/2016 16:32  11/30/2016 17:47  30.328165   \n",
       "2  261004  201.0         2  11/30/2016 16:31  11/30/2016 17:46  30.326077   \n",
       "3  261005  201.0         2  11/30/2016 16:06  11/30/2016 17:27  32.856014   \n",
       "4  261006  201.0         3  11/30/2016 16:35  11/30/2016 17:49  32.797668   \n",
       "\n",
       "   Start_Lng                                        Description        City  \\\n",
       "0 -97.755646  Accident on RM-2222 Northland Dr at Mo Pac Exp...      Austin   \n",
       "1 -97.694305  Accident on Grand Canyon Dr between Westheimer...      Austin   \n",
       "2 -97.692307         Accident on Saint Johns Ave at Cameron Rd.      Austin   \n",
       "3 -97.513084  #2 lane blocked and right hand shoulder blocke...  Fort Worth   \n",
       "4 -97.212090  #2 lane blocked and right hand shoulder blocke...  Fort Worth   \n",
       "\n",
       "  State  ... Weather_Timestamp Temperature(F)  Visibility(mi)  \\\n",
       "0    TX  ...  11/30/2016 15:51           66.0            10.0   \n",
       "1    TX  ...  11/30/2016 16:51           62.1            10.0   \n",
       "2    TX  ...  11/30/2016 16:51           62.1            10.0   \n",
       "3    TX  ...  11/30/2016 16:00            NaN             NaN   \n",
       "4    TX  ...               NaN            NaN             NaN   \n",
       "\n",
       "   Wind_Speed(mph)  Precipitation(in)  Weather_Condition Sunrise_Sunset  \\\n",
       "0              5.8                NaN              Clear            Day   \n",
       "1              4.6                NaN              Clear            Day   \n",
       "2              4.6                NaN              Clear            Day   \n",
       "3              NaN                NaN                NaN            Day   \n",
       "4              NaN                NaN                NaN            Day   \n",
       "\n",
       "  Civil_Twilight Nautical_Twilight Astronomical_Twilight  \n",
       "0            Day               Day                   Day  \n",
       "1            Day               Day                   Day  \n",
       "2            Day               Day                   Day  \n",
       "3            Day               Day                   Day  \n",
       "4            Day               Day                   Day  \n",
       "\n",
       "[5 rows x 21 columns]"
      ]
     },
     "execution_count": 1,
     "metadata": {},
     "output_type": "execute_result"
    }
   ],
   "source": [
    "import csv\n",
    "import os\n",
    "import pandas as pd\n",
    "import matplotlib.pyplot as plt\n",
    "\n",
    "\n",
    "from scipy.stats import linregress\n",
    "csv_path = os.path.join(\"data\", \"reduced_texas_df.csv\")\n",
    "texas_df = pd.read_csv(csv_path, encoding=\"utf-8\")\n",
    "texas_df.head()"
   ]
  },
  {
   "cell_type": "code",
   "execution_count": 2,
   "metadata": {},
   "outputs": [
    {
     "data": {
      "image/png": "[encoded data removed]",
      "text/plain": [
       "<Figure size 576x576 with 1 Axes>"
      ]
     },
     "metadata": {
      "needs_background": "light"
     },
     "output_type": "display_data"
    }
   ],
   "source": [
    "# Brittany's section 1\n",
    "sev_vs_vis = texas_df[['Severity', 'Visibility(mi)']]\n",
    "quartiles = sev_vs_vis.quantile([.25,.5,.75])\n",
    "lowerq = quartiles.loc[0.25].values[0]\n",
    "upperq = quartiles.loc[0.75].values[0]\n",
    "iqr = upperq-lowerq\n",
    "lower_bound = lowerq - (1.5*iqr)\n",
    "upper_bound = upperq + (1.5*iqr)\n",
    "# Removing outliers for better graph\n",
    "sev_vs_vis = sev_vs_vis[sev_vs_vis['Visibility(mi)'] <= upper_bound]\n",
    "sev_vs_vis = sev_vs_vis[sev_vs_vis['Visibility(mi)'] >= lower_bound]\n",
    "plot = sev_vs_vis.boxplot(by='Severity', figsize=(8,8), autorange=True, flierprops=dict(markerfacecolor='r', marker='D'))\n",
    "plot.set_title('')\n",
    "plot.set_ylabel('Visibility in Miles')\n",
    "plot.set_xlabel('Severity of Accident')\n",
    "fig = plot.get_figure()\n",
    "fig.savefig('./vis_by_sev_boxplot.png')"
   ]
  },
  {
   "cell_type": "code",
   "execution_count": 3,
   "metadata": {},
   "outputs": [
    {
     "data": {
      "text/html": [
       "<div>\n",
       "<style scoped>\n",
       "    .dataframe tbody tr th:only-of-type {\n",
       "        vertical-align: middle;\n",
       "    }\n",
       "\n",
       "    .dataframe tbody tr th {\n",
       "        vertical-align: top;\n",
       "    }\n",
       "\n",
       "    .dataframe thead th {\n",
       "        text-align: right;\n",
       "    }\n",
       "</style>\n",
       "<table border=\"1\" class=\"dataframe\">\n",
       "  <thead>\n",
       "    <tr style=\"text-align: right;\">\n",
       "      <th></th>\n",
       "      <th>Visibility(mi)</th>\n",
       "      <th>Total Count</th>\n",
       "      <th>Percentage of Accidents</th>\n",
       "    </tr>\n",
       "  </thead>\n",
       "  <tbody>\n",
       "    <tr>\n",
       "      <th>0</th>\n",
       "      <td>(0, 2]</td>\n",
       "      <td>12661</td>\n",
       "      <td>3.363307</td>\n",
       "    </tr>\n",
       "    <tr>\n",
       "      <th>1</th>\n",
       "      <td>(2, 4]</td>\n",
       "      <td>12094</td>\n",
       "      <td>3.212687</td>\n",
       "    </tr>\n",
       "    <tr>\n",
       "      <th>2</th>\n",
       "      <td>(4, 6]</td>\n",
       "      <td>12926</td>\n",
       "      <td>3.433702</td>\n",
       "    </tr>\n",
       "    <tr>\n",
       "      <th>3</th>\n",
       "      <td>(6, 8]</td>\n",
       "      <td>19664</td>\n",
       "      <td>5.223605</td>\n",
       "    </tr>\n",
       "    <tr>\n",
       "      <th>4</th>\n",
       "      <td>(8, 10]</td>\n",
       "      <td>306419</td>\n",
       "      <td>81.398079</td>\n",
       "    </tr>\n",
       "    <tr>\n",
       "      <th>5</th>\n",
       "      <td>(10, 12]</td>\n",
       "      <td>292</td>\n",
       "      <td>0.077568</td>\n",
       "    </tr>\n",
       "    <tr>\n",
       "      <th>6</th>\n",
       "      <td>(12, 14]</td>\n",
       "      <td>4683</td>\n",
       "      <td>1.244006</td>\n",
       "    </tr>\n",
       "    <tr>\n",
       "      <th>7</th>\n",
       "      <td>(14, 16]</td>\n",
       "      <td>7</td>\n",
       "      <td>0.001860</td>\n",
       "    </tr>\n",
       "    <tr>\n",
       "      <th>8</th>\n",
       "      <td>(16, 1000]</td>\n",
       "      <td>129</td>\n",
       "      <td>0.034268</td>\n",
       "    </tr>\n",
       "  </tbody>\n",
       "</table>\n",
       "</div>"
      ],
      "text/plain": [
       "  Visibility(mi)  Total Count  Percentage of Accidents\n",
       "0         (0, 2]        12661                 3.363307\n",
       "1         (2, 4]        12094                 3.212687\n",
       "2         (4, 6]        12926                 3.433702\n",
       "3         (6, 8]        19664                 5.223605\n",
       "4        (8, 10]       306419                81.398079\n",
       "5       (10, 12]          292                 0.077568\n",
       "6       (12, 14]         4683                 1.244006\n",
       "7       (14, 16]            7                 0.001860\n",
       "8     (16, 1000]          129                 0.034268"
      ]
     },
     "metadata": {},
     "output_type": "display_data"
    },
    {
     "data": {
      "image/png": "[encoded data removed]",
      "text/plain": [
       "<Figure size 432x288 with 1 Axes>"
      ]
     },
     "metadata": {
      "needs_background": "light"
     },
     "output_type": "display_data"
    }
   ],
   "source": [
    "# Brittany's section 2\n",
    "cut_bins = [0, 2, 4, 6, 8, 10, 12, 14, 16, 1000]\n",
    "cut_labels = ['<10', '10-14', '15-19', '20-24', '25-29', '30-34', '35-39', '40+']\n",
    "binned_data = texas_df.groupby([pd.cut(texas_df['Visibility(mi)'], bins=cut_bins)])\n",
    "count_by_vis = binned_data.size()\n",
    "fraction_of_tot_by_vis = count_by_vis.divide(texas_df.count().values[0]) * 100\n",
    "percentage_by_vis = fraction_of_tot_by_vis.apply(lambda x: \"{:.2f}%\".format((x)))\n",
    "\n",
    "final_df = pd.concat([count_by_vis, fraction_of_tot_by_vis], axis=1)\n",
    "final_df = final_df.rename(columns={final_df.columns[0]: \"Total Count\", final_df.columns[1]: \"Percentage of Accidents\"}).reset_index()\n",
    "display(final_df)\n",
    "plot = final_df[['Visibility(mi)','Percentage of Accidents']].plot.bar(x='Visibility(mi)',y='Percentage of Accidents')\n",
    "plot.set_title('')\n",
    "plot.set_xlabel('Visibility in Miles (Grouped)')\n",
    "fig = plot.get_figure()\n",
    "fig.savefig('./percentage_of_accidents_by_vis_barplot.png')"
   ]
  },
  {
   "cell_type": "code",
   "execution_count": 4,
   "metadata": {},
   "outputs": [
    {
     "data": {
      "image/png": "[encoded data removed]",
      "text/plain": [
       "<Figure size 432x288 with 2 Axes>"
      ]
     },
     "metadata": {
      "needs_background": "light"
     },
     "output_type": "display_data"
    }
   ],
   "source": [
    "#Agust Plot 1\n",
    "#Create triple variable scatter plot with x markers \n",
    "plt.scatter(texas_df[\"Severity\"], texas_df[\"Precipitation(in)\"], c=texas_df[\"Visibility(mi)\"], marker=\"x\", alpha=0.3)\n",
    "\n",
    "#Create labels and titles\n",
    "plt.xlabel(\"Severity\")\n",
    "plt.ylabel(\"Precipitation and Visibility\")\n",
    "plt.title(\"Severity vs. Precipitation with Visibility as Colors\")\n",
    "\n",
    "#Create colorbar\n",
    "clb = plt.colorbar()\n",
    "\n",
    "#Set label and grid\n",
    "clb.set_label = (\"Visbility\")\n",
    "plt.grid()\n",
    "\n",
    "#Save as png\n",
    "plt.savefig(\"Severity_and_Dual_Weather_factors.png\")"
   ]
  },
  {
   "cell_type": "code",
   "execution_count": 5,
   "metadata": {},
   "outputs": [
    {
     "data": {
      "image/png": "[encoded data removed]",
      "text/plain": [
       "<Figure size 432x288 with 1 Axes>"
      ]
     },
     "metadata": {},
     "output_type": "display_data"
    }
   ],
   "source": [
    "#Agust Plot 2\n",
    "#Create number set, labels, and explode numbers\n",
    "counts = [1079, 273773, 96624, 4969]\n",
    "labels = \"Other\", \"Non-Incapacitating\", \"Incapacitating\", \"Fatal\"\n",
    "explode = (0.1, 0, 0, 0.3)\n",
    "\n",
    "#Create Figure and Axis\n",
    "fig1, ax1 = plt.subplots()\n",
    "\n",
    "#Create pie chart with formatting\n",
    "ax1.pie(counts, explode=explode, labels=labels, autopct='%1.1f%%',\n",
    "        shadow=True, startangle=90, radius=.8)\n",
    "\n",
    "#Equalize Axis and show plot\n",
    "ax1.axis('equal')\n",
    "plt.show\n",
    "\n",
    "#Save as png\n",
    "plt.savefig(\"Severity_pie_chart.png\")"
   ]
  },
  {
   "cell_type": "code",
   "execution_count": 6,
   "metadata": {},
   "outputs": [],
   "source": [
    "#Jared's plot\n",
    "\n",
    "#CONVERTING THE START TIME COLUMN TO \"DATETIME\" FORMAT.\n",
    "texas_df['Start_Time'] = pd.to_datetime(texas_df['Start_Time'], errors='coerce')"
   ]
  },
  {
   "cell_type": "code",
   "execution_count": 7,
   "metadata": {},
   "outputs": [
    {
     "data": {
      "text/plain": [
       "0    16.0\n",
       "1    16.0\n",
       "2    16.0\n",
       "3    16.0\n",
       "4    16.0\n",
       "Name: Start_Time, dtype: float64"
      ]
     },
     "execution_count": 7,
     "metadata": {},
     "output_type": "execute_result"
    }
   ],
   "source": [
    "#PULLING OUT JUST THE HOURS OF THE START TIME COLUMN SINCE BINS ONLY USE WHOLE NUMBERS.\n",
    "hour_texas_df = texas_df['Start_Time'].dt.hour\n",
    "hour_texas_df.head()"
   ]
  },
  {
   "cell_type": "code",
   "execution_count": 8,
   "metadata": {},
   "outputs": [],
   "source": [
    "#CREATED 4 HOUR BLOCKS OF TIME FOR THE BINS.\n",
    "bins = [0, 4, 8, 12, 16, 20, 24]\n",
    "hour_groups = [\"Midnight to 4am\", \"4am to 8am\", \"8am to Noon\", \"Noon to 4pm\",\"4pm to 8pm\", \"8pm to Midnight\"]"
   ]
  },
  {
   "cell_type": "code",
   "execution_count": 9,
   "metadata": {},
   "outputs": [
    {
     "data": {
      "text/plain": [
       "0    Noon to 4pm\n",
       "1    Noon to 4pm\n",
       "2    Noon to 4pm\n",
       "3    Noon to 4pm\n",
       "4    Noon to 4pm\n",
       "Name: Start_Time, dtype: category\n",
       "Categories (6, object): ['Midnight to 4am' < '4am to 8am' < '8am to Noon' < 'Noon to 4pm' < '4pm to 8pm' < '8pm to Midnight']"
      ]
     },
     "execution_count": 9,
     "metadata": {},
     "output_type": "execute_result"
    }
   ],
   "source": [
    "#CUTTING THE BIN TO MAKE A COLUMN OF DATA.\n",
    "pd.cut(hour_texas_df, bins, labels=hour_groups).head()"
   ]
  },
  {
   "cell_type": "code",
   "execution_count": 10,
   "metadata": {},
   "outputs": [
    {
     "data": {
      "text/plain": [
       "4am to 8am         98683\n",
       "8am to Noon        88538\n",
       "Noon to 4pm        79150\n",
       "4pm to 8pm         74193\n",
       "8pm to Midnight    19139\n",
       "Midnight to 4am    13309\n",
       "Name: Hour Group, dtype: int64"
      ]
     },
     "execution_count": 10,
     "metadata": {},
     "output_type": "execute_result"
    }
   ],
   "source": [
    "#CREATED A COLUMN TO STORE PREVIOUS MADE COLUMN FROM THE BINS.\n",
    "texas_df[\"Hour Group\"] = pd.cut(hour_texas_df, bins, labels=hour_groups)\n",
    "texas_df[\"Hour Group\"].value_counts()"
   ]
  },
  {
   "cell_type": "code",
   "execution_count": 11,
   "metadata": {},
   "outputs": [
    {
     "data": {
      "image/png": "[encoded data removed]",
      "text/plain": [
       "<Figure size 720x720 with 1 Axes>"
      ]
     },
     "metadata": {
      "needs_background": "light"
     },
     "output_type": "display_data"
    }
   ],
   "source": [
    "hour_groups = [\"Midnight to 4am\", \"4am to 8am\", \"8am to Noon\", \"Noon to 4pm\",\"4pm to 8pm\", \"8pm to Midnight\"]\n",
    "\n",
    "hour_nums = [13309, 98683, 88538, 79150, 74193, 19139]\n",
    "plt.figure(figsize=(10,10))\n",
    "plt.grid(zorder=0, color=\"black\")\n",
    "plt.bar(hour_groups, hour_nums, color=\"r\", align=\"center\", zorder=3)\n",
    "plt.title(\"Amount of Crashes at Different times\")\n",
    "plt.xlabel(\"Different Time Brackets\")\n",
    "plt.ylabel(\"Amount of Crashes Reported\")\n",
    "plt.ylim(0, max(hour_nums)+5000)\n",
    "plt.savefig(\"data/BarPlot.png\")"
   ]
  },
  {
   "cell_type": "code",
   "execution_count": null,
   "metadata": {},
   "outputs": [],
   "source": []
  }
 ],
 "metadata": {
  "kernelspec": {
   "display_name": "Python 3",
   "language": "python",
   "name": "python3"
  },
  "language_info": {
   "codemirror_mode": {
    "name": "ipython",
    "version": 3
   },
   "file_extension": ".py",
   "mimetype": "text/x-python",
   "name": "python",
   "nbconvert_exporter": "python",
   "pygments_lexer": "ipython3",
   "version": "3.8.5"
  }
 },
 "nbformat": 4,
 "nbformat_minor": 4
}
