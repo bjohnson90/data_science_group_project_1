{
 "cells": [
  {
   "cell_type": "code",
   "execution_count": 1,
   "metadata": {},
   "outputs": [],
   "source": [
    "import pandas as pd\n",
    "import numpy as np\n",
    "import matplotlib.pyplot as mpl\n",
    "from imp import reload"
   ]
  },
  {
   "cell_type": "code",
   "execution_count": 2,
   "metadata": {},
   "outputs": [
    {
     "data": {
      "text/html": [
       "<div>\n",
       "<style scoped>\n",
       "    .dataframe tbody tr th:only-of-type {\n",
       "        vertical-align: middle;\n",
       "    }\n",
       "\n",
       "    .dataframe tbody tr th {\n",
       "        vertical-align: top;\n",
       "    }\n",
       "\n",
       "    .dataframe thead th {\n",
       "        text-align: right;\n",
       "    }\n",
       "</style>\n",
       "<table border=\"1\" class=\"dataframe\">\n",
       "  <thead>\n",
       "    <tr style=\"text-align: right;\">\n",
       "      <th></th>\n",
       "      <th>ID</th>\n",
       "      <th>TMC</th>\n",
       "      <th>Severity</th>\n",
       "      <th>Start_Time</th>\n",
       "      <th>End_Time</th>\n",
       "      <th>Start_Lat</th>\n",
       "      <th>Start_Lng</th>\n",
       "      <th>Description</th>\n",
       "      <th>City</th>\n",
       "      <th>State</th>\n",
       "      <th>...</th>\n",
       "      <th>Weather_Timestamp</th>\n",
       "      <th>Temperature(F)</th>\n",
       "      <th>Visibility(mi)</th>\n",
       "      <th>Wind_Speed(mph)</th>\n",
       "      <th>Precipitation(in)</th>\n",
       "      <th>Weather_Condition</th>\n",
       "      <th>Sunrise_Sunset</th>\n",
       "      <th>Civil_Twilight</th>\n",
       "      <th>Nautical_Twilight</th>\n",
       "      <th>Astronomical_Twilight</th>\n",
       "    </tr>\n",
       "  </thead>\n",
       "  <tbody>\n",
       "    <tr>\n",
       "      <th>0</th>\n",
       "      <td>261002</td>\n",
       "      <td>201.0</td>\n",
       "      <td>2</td>\n",
       "      <td>11/30/2016 16:03</td>\n",
       "      <td>11/30/2016 17:20</td>\n",
       "      <td>30.336502</td>\n",
       "      <td>-97.755646</td>\n",
       "      <td>Accident on RM-2222 Northland Dr at Mo Pac Exp...</td>\n",
       "      <td>Austin</td>\n",
       "      <td>TX</td>\n",
       "      <td>...</td>\n",
       "      <td>11/30/2016 15:51</td>\n",
       "      <td>66.0</td>\n",
       "      <td>10.0</td>\n",
       "      <td>5.8</td>\n",
       "      <td>NaN</td>\n",
       "      <td>Clear</td>\n",
       "      <td>Day</td>\n",
       "      <td>Day</td>\n",
       "      <td>Day</td>\n",
       "      <td>Day</td>\n",
       "    </tr>\n",
       "    <tr>\n",
       "      <th>1</th>\n",
       "      <td>261003</td>\n",
       "      <td>201.0</td>\n",
       "      <td>2</td>\n",
       "      <td>11/30/2016 16:32</td>\n",
       "      <td>11/30/2016 17:47</td>\n",
       "      <td>30.328165</td>\n",
       "      <td>-97.694305</td>\n",
       "      <td>Accident on Grand Canyon Dr between Westheimer...</td>\n",
       "      <td>Austin</td>\n",
       "      <td>TX</td>\n",
       "      <td>...</td>\n",
       "      <td>11/30/2016 16:51</td>\n",
       "      <td>62.1</td>\n",
       "      <td>10.0</td>\n",
       "      <td>4.6</td>\n",
       "      <td>NaN</td>\n",
       "      <td>Clear</td>\n",
       "      <td>Day</td>\n",
       "      <td>Day</td>\n",
       "      <td>Day</td>\n",
       "      <td>Day</td>\n",
       "    </tr>\n",
       "    <tr>\n",
       "      <th>2</th>\n",
       "      <td>261004</td>\n",
       "      <td>201.0</td>\n",
       "      <td>2</td>\n",
       "      <td>11/30/2016 16:31</td>\n",
       "      <td>11/30/2016 17:46</td>\n",
       "      <td>30.326077</td>\n",
       "      <td>-97.692307</td>\n",
       "      <td>Accident on Saint Johns Ave at Cameron Rd.</td>\n",
       "      <td>Austin</td>\n",
       "      <td>TX</td>\n",
       "      <td>...</td>\n",
       "      <td>11/30/2016 16:51</td>\n",
       "      <td>62.1</td>\n",
       "      <td>10.0</td>\n",
       "      <td>4.6</td>\n",
       "      <td>NaN</td>\n",
       "      <td>Clear</td>\n",
       "      <td>Day</td>\n",
       "      <td>Day</td>\n",
       "      <td>Day</td>\n",
       "      <td>Day</td>\n",
       "    </tr>\n",
       "    <tr>\n",
       "      <th>3</th>\n",
       "      <td>261005</td>\n",
       "      <td>201.0</td>\n",
       "      <td>2</td>\n",
       "      <td>11/30/2016 16:06</td>\n",
       "      <td>11/30/2016 17:27</td>\n",
       "      <td>32.856014</td>\n",
       "      <td>-97.513084</td>\n",
       "      <td>#2 lane blocked and right hand shoulder blocke...</td>\n",
       "      <td>Fort Worth</td>\n",
       "      <td>TX</td>\n",
       "      <td>...</td>\n",
       "      <td>11/30/2016 16:00</td>\n",
       "      <td>NaN</td>\n",
       "      <td>NaN</td>\n",
       "      <td>NaN</td>\n",
       "      <td>NaN</td>\n",
       "      <td>NaN</td>\n",
       "      <td>Day</td>\n",
       "      <td>Day</td>\n",
       "      <td>Day</td>\n",
       "      <td>Day</td>\n",
       "    </tr>\n",
       "    <tr>\n",
       "      <th>4</th>\n",
       "      <td>261006</td>\n",
       "      <td>201.0</td>\n",
       "      <td>3</td>\n",
       "      <td>11/30/2016 16:35</td>\n",
       "      <td>11/30/2016 17:49</td>\n",
       "      <td>32.797668</td>\n",
       "      <td>-97.212090</td>\n",
       "      <td>#2 lane blocked and right hand shoulder blocke...</td>\n",
       "      <td>Fort Worth</td>\n",
       "      <td>TX</td>\n",
       "      <td>...</td>\n",
       "      <td>NaN</td>\n",
       "      <td>NaN</td>\n",
       "      <td>NaN</td>\n",
       "      <td>NaN</td>\n",
       "      <td>NaN</td>\n",
       "      <td>NaN</td>\n",
       "      <td>Day</td>\n",
       "      <td>Day</td>\n",
       "      <td>Day</td>\n",
       "      <td>Day</td>\n",
       "    </tr>\n",
       "  </tbody>\n",
       "</table>\n",
       "<p>5 rows × 21 columns</p>\n",
       "</div>"
      ],
      "text/plain": [
       "       ID    TMC  Severity        Start_Time          End_Time  Start_Lat  \\\n",
       "0  261002  201.0         2  11/30/2016 16:03  11/30/2016 17:20  30.336502   \n",
       "1  261003  201.0         2  11/30/2016 16:32  11/30/2016 17:47  30.328165   \n",
       "2  261004  201.0         2  11/30/2016 16:31  11/30/2016 17:46  30.326077   \n",
       "3  261005  201.0         2  11/30/2016 16:06  11/30/2016 17:27  32.856014   \n",
       "4  261006  201.0         3  11/30/2016 16:35  11/30/2016 17:49  32.797668   \n",
       "\n",
       "   Start_Lng                                        Description        City  \\\n",
       "0 -97.755646  Accident on RM-2222 Northland Dr at Mo Pac Exp...      Austin   \n",
       "1 -97.694305  Accident on Grand Canyon Dr between Westheimer...      Austin   \n",
       "2 -97.692307         Accident on Saint Johns Ave at Cameron Rd.      Austin   \n",
       "3 -97.513084  #2 lane blocked and right hand shoulder blocke...  Fort Worth   \n",
       "4 -97.212090  #2 lane blocked and right hand shoulder blocke...  Fort Worth   \n",
       "\n",
       "  State  ... Weather_Timestamp Temperature(F)  Visibility(mi)  \\\n",
       "0    TX  ...  11/30/2016 15:51           66.0            10.0   \n",
       "1    TX  ...  11/30/2016 16:51           62.1            10.0   \n",
       "2    TX  ...  11/30/2016 16:51           62.1            10.0   \n",
       "3    TX  ...  11/30/2016 16:00            NaN             NaN   \n",
       "4    TX  ...               NaN            NaN             NaN   \n",
       "\n",
       "   Wind_Speed(mph)  Precipitation(in)  Weather_Condition Sunrise_Sunset  \\\n",
       "0              5.8                NaN              Clear            Day   \n",
       "1              4.6                NaN              Clear            Day   \n",
       "2              4.6                NaN              Clear            Day   \n",
       "3              NaN                NaN                NaN            Day   \n",
       "4              NaN                NaN                NaN            Day   \n",
       "\n",
       "  Civil_Twilight Nautical_Twilight Astronomical_Twilight  \n",
       "0            Day               Day                   Day  \n",
       "1            Day               Day                   Day  \n",
       "2            Day               Day                   Day  \n",
       "3            Day               Day                   Day  \n",
       "4            Day               Day                   Day  \n",
       "\n",
       "[5 rows x 21 columns]"
      ]
     },
     "execution_count": 2,
     "metadata": {},
     "output_type": "execute_result"
    }
   ],
   "source": [
    "csv_file = \"reduced_texas_df.csv\"\n",
    "texas_df = pd.read_csv(csv_file)\n",
    "texas_df.head()"
   ]
  },
  {
   "cell_type": "code",
   "execution_count": 3,
   "metadata": {},
   "outputs": [],
   "source": [
    "#severity = texas_df[\"Severity\"]\n",
    "#severity = np.array(severity)\n",
    "#severity\n"
   ]
  },
  {
   "cell_type": "code",
   "execution_count": 12,
   "metadata": {},
   "outputs": [
    {
     "data": {
      "text/plain": [
       "<function matplotlib.pyplot.show(close=None, block=None)>"
      ]
     },
     "execution_count": 12,
     "metadata": {},
     "output_type": "execute_result"
    },
    {
     "data": {
      "image/png": "[encoded data removed]",
      "text/plain": [
       "<Figure size 432x288 with 1 Axes>"
      ]
     },
     "metadata": {
      "needs_background": "light"
     },
     "output_type": "display_data"
    }
   ],
   "source": [
    "bins = [1,2,3,4]\n",
    "labels = \"[Severity, Precipitation]\"\n",
    "mpl.hist(texas_df[\"Severity\"], color=\"lightpink\", label=labels)\n",
    "mpl.xlabel(\"Severity\")\n",
    "mpl.ylabel(\"Count\")\n",
    "mpl.show"
   ]
  },
  {
   "cell_type": "code",
   "execution_count": 32,
   "metadata": {},
   "outputs": [
    {
     "data": {
      "text/plain": [
       "Text(0, 0.5, 'Precipitation in Inches')"
      ]
     },
     "execution_count": 32,
     "metadata": {},
     "output_type": "execute_result"
    },
    {
     "data": {
      "image/png": "[encoded data removed]",
      "text/plain": [
       "<Figure size 432x288 with 1 Axes>"
      ]
     },
     "metadata": {
      "needs_background": "light"
     },
     "output_type": "display_data"
    }
   ],
   "source": [
    "mpl.scatter(texas_df[\"Severity\"], texas_df[\"Precipitation(in)\"], texas_df[\"Visibility(mi)\"], c=\"r\", marker=\"x\")\n",
    "mpl.xlabel(\"Severity\")\n",
    "mpl.ylabel(\"Precipitation in Inches\")"
   ]
  },
  {
   "cell_type": "code",
   "execution_count": null,
   "metadata": {},
   "outputs": [],
   "source": []
  },
  {
   "cell_type": "code",
   "execution_count": 31,
   "metadata": {},
   "outputs": [
    {
     "data": {
      "text/plain": [
       "<function matplotlib.pyplot.show(close=None, block=None)>"
      ]
     },
     "execution_count": 31,
     "metadata": {},
     "output_type": "execute_result"
    },
    {
     "data": {
      "image/png": "[encoded data removed]",
      "text/plain": [
       "<Figure size 432x288 with 1 Axes>"
      ]
     },
     "metadata": {},
     "output_type": "display_data"
    }
   ],
   "source": [
    "counts = [1079, 273773, 96624, 4969]\n",
    "labels = \"Other\", \"Non-Incapacitating\", \"Incapacitating\", \"Fatal\"\n",
    "explode = (0.1, 0, 0, 0.3)\n",
    "\n",
    "fig1, ax1 = mpl.subplots()\n",
    "\n",
    "ax1.pie(counts, explode=explode, labels=labels, autopct='%1.1f%%',\n",
    "        shadow=True, startangle=90, radius=.8)\n",
    "\n",
    "ax1.axis('equal')\n",
    "mpl.show"
   ]
  },
  {
   "cell_type": "code",
   "execution_count": null,
   "metadata": {},
   "outputs": [],
   "source": []
  }
 ],
 "metadata": {
  "kernelspec": {
   "display_name": "Python 3",
   "language": "python",
   "name": "python3"
  },
  "language_info": {
   "codemirror_mode": {
    "name": "ipython",
    "version": 3
   },
   "file_extension": ".py",
   "mimetype": "text/x-python",
   "name": "python",
   "nbconvert_exporter": "python",
   "pygments_lexer": "ipython3",
   "version": "3.8.5"
  }
 },
 "nbformat": 4,
 "nbformat_minor": 4
}
